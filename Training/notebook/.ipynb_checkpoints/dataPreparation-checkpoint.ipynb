{
 "cells": [
  {
   "cell_type": "code",
   "execution_count": 1,
   "id": "second-mistake",
   "metadata": {},
   "outputs": [],
   "source": [
    "import os\n",
    "import json\n",
    "from glob import glob\n",
    "import pandas as pd\n"
   ]
  },
  {
   "cell_type": "code",
   "execution_count": null,
   "id": "wanted-pontiac",
   "metadata": {},
   "outputs": [],
   "source": [
    "os.listdir(\"../MSOCR\")"
   ]
  },
  {
   "cell_type": "code",
   "execution_count": 3,
   "id": "quiet-decade",
   "metadata": {},
   "outputs": [],
   "source": [
    "def get_page_wise_text(path):\n",
    "    try:\n",
    "        with open(path,'r') as f:\n",
    "            data = json.loads(f.read())\n",
    "        pagesText = []\n",
    "        for page in data['recognitionResults']:\n",
    "            pageText = \"\"\n",
    "            for line in page['lines']:\n",
    "                pageText+= \" \" + line['Text']\n",
    "            pagesText.append(pageText)\n",
    "    except:\n",
    "        return \" \"\n",
    "        \n",
    "    return pagesText\n",
    "\n",
    "            \n",
    "                \n",
    "            "
   ]
  },
  {
   "cell_type": "code",
   "execution_count": null,
   "id": "rural-vector",
   "metadata": {},
   "outputs": [],
   "source": [
    "all_files = glob(\"../MSOCR/**/*.json\")"
   ]
  },
  {
   "cell_type": "code",
   "execution_count": null,
   "id": "improved-guatemala",
   "metadata": {},
   "outputs": [],
   "source": [
    "df = pd.DataFrame()\n",
    "df['path']=all_files\n",
    "df['filename'] =df['path'].apply(lambda x : os.path.basename(x))\n",
    "df['parent'] = df['path'].apply(lambda x : x.split(\"\\\\\")[-2] )\n",
    "df['texts'] = df['path'].apply(lambda x : get_page_wise_text(x))"
   ]
  },
  {
   "cell_type": "code",
   "execution_count": null,
   "id": "coated-friend",
   "metadata": {},
   "outputs": [],
   "source": [
    "new_df = []\n",
    "for idx,row in df.itterrows():\n",
    "    listoftexts = (row['texts'])\n",
    "    tmpRows = {}\n",
    "    for text in listoftexts:\n",
    "        tmpRows.update(row)\n",
    "        del tmpRows['text']\n",
    "        tmpRows['text'] = text\n",
    "        new_df.append(tmpRows)\n",
    "        \n",
    "        \n",
    "classificatiob_df = pd.DataFrame(new_df)\n",
    " classificatiob_df.to_csv('./exports/classification_data.csv',index=False)       "
   ]
  },
  {
   "cell_type": "code",
   "execution_count": null,
   "id": "waiting-korea",
   "metadata": {},
   "outputs": [],
   "source": []
  }
 ],
 "metadata": {
  "kernelspec": {
   "display_name": "Python 3",
   "language": "python",
   "name": "python3"
  },
  "language_info": {
   "codemirror_mode": {
    "name": "ipython",
    "version": 3
   },
   "file_extension": ".py",
   "mimetype": "text/x-python",
   "name": "python",
   "nbconvert_exporter": "python",
   "pygments_lexer": "ipython3",
   "version": "3.6.8"
  }
 },
 "nbformat": 4,
 "nbformat_minor": 5
}
